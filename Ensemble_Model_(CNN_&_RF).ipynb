{
  "nbformat": 4,
  "nbformat_minor": 0,
  "metadata": {
    "colab": {
      "provenance": [],
      "gpuType": "T4",
      "include_colab_link": true
    },
    "kernelspec": {
      "name": "python3",
      "display_name": "Python 3"
    },
    "language_info": {
      "name": "python"
    },
    "accelerator": "GPU"
  },
  "cells": [
    {
      "cell_type": "markdown",
      "metadata": {
        "id": "view-in-github",
        "colab_type": "text"
      },
      "source": [
        "<a href=\"https://colab.research.google.com/github/malsha11/AppRatingPro-Web-Application/blob/master/Ensemble_Model_(CNN_%26_RF).ipynb\" target=\"_parent\"><img src=\"https://colab.research.google.com/assets/colab-badge.svg\" alt=\"Open In Colab\"/></a>"
      ]
    },
    {
      "cell_type": "code",
      "execution_count": null,
      "metadata": {
        "id": "fg7TzgYn2QfM"
      },
      "outputs": [],
      "source": [
        "import PIL\n",
        "import glob\n",
        "import numpy as np\n",
        "import tensorflow as tf\n",
        "from tqdm import tqdm\n",
        "import matplotlib.pyplot as plt\n",
        "from matplotlib.patches import Rectangle\n",
        "import zipfile\n",
        "import cv2\n",
        "import os\n",
        "from google.colab.patches import cv2_imshow\n",
        "import pandas as pd\n",
        "import glob\n",
        "import natsort\n",
        "from PIL import Image\n",
        "import sys\n",
        "from numpy import asarray\n",
        "from numpy import savetxt\n",
        "from numpy import loadtxt\n",
        "from sklearn.model_selection import train_test_split\n",
        "from tensorflow.keras.layers import LSTM\n",
        "import keras\n",
        "from keras.models import Sequential\n",
        "from keras.layers import Dense, Dropout, Activation, Flatten\n",
        "from keras.layers import Conv2D, MaxPooling2D, MaxPooling3D\n",
        "from keras import backend as K\n",
        "from tensorflow.keras.layers import BatchNormalization\n",
        "import tensorflow as tf\n",
        "from tensorflow import keras\n",
        "from tensorflow.keras import layers"
      ]
    },
    {
      "cell_type": "code",
      "source": [
        "from google.colab import drive\n",
        "drive.mount('/content/drive')\n",
        "df_app_data = pd.read_csv('/content/drive/MyDrive/app_data.csv')\n",
        "Y = np.asarray(df_app_data[\"score\"])"
      ],
      "metadata": {
        "id": "rI0xmbxKCM7e",
        "colab": {
          "base_uri": "https://localhost:8080/"
        },
        "outputId": "91325c4e-6c61-4582-d2b7-d6c0554f7f65"
      },
      "execution_count": null,
      "outputs": [
        {
          "output_type": "stream",
          "name": "stdout",
          "text": [
            "Mounted at /content/drive\n"
          ]
        }
      ]
    },
    {
      "cell_type": "code",
      "source": [
        "df_app_data"
      ],
      "metadata": {
        "id": "ylQRbK7PCQ6L"
      },
      "execution_count": null,
      "outputs": []
    },
    {
      "cell_type": "code",
      "source": [
        "X = []\n",
        "count =0\n",
        "while count< len(df_app_data):\n",
        "\n",
        "  if(df_app_data[\"free\"][count] == True):\n",
        "    free = 1\n",
        "  else:\n",
        "    free = 0\n",
        "\n",
        "  if(df_app_data[\"adSupported\"][count] == True):\n",
        "    adSupported = 1\n",
        "  else:\n",
        "    adSupported = 0\n",
        "\n",
        "  if(df_app_data[\"containsAds\"][count] == True):\n",
        "    containsAds = 1\n",
        "  else:\n",
        "    containsAds = 0\n",
        "\n",
        "  data_row = [df_app_data[\"installs\"][count] , df_app_data[\"price\"][count],\n",
        "              df_app_data[\"ratings\"][count],df_app_data[\"reviews\"][count],\n",
        "              free, adSupported, containsAds]\n",
        "  X.append(data_row)\n",
        "  count = count +1"
      ],
      "metadata": {
        "id": "Xsi2eP-mDxIi"
      },
      "execution_count": null,
      "outputs": []
    },
    {
      "cell_type": "code",
      "source": [
        "X = np.asarray(X)\n",
        "print(X.shape)\n",
        "print(Y.shape)"
      ],
      "metadata": {
        "colab": {
          "base_uri": "https://localhost:8080/"
        },
        "id": "ME8PEQrCEBKG",
        "outputId": "c316f8a5-b92c-4461-a8e2-ba70efaf2b31"
      },
      "execution_count": null,
      "outputs": [
        {
          "output_type": "stream",
          "name": "stdout",
          "text": [
            "(7327, 7)\n",
            "(7327,)\n"
          ]
        }
      ]
    },
    {
      "cell_type": "code",
      "source": [
        "np.count_nonzero(np.isnan(X))"
      ],
      "metadata": {
        "colab": {
          "base_uri": "https://localhost:8080/"
        },
        "id": "7gfRibK9H3sz",
        "outputId": "0adef8ff-4651-4e8c-858a-0e372804066e"
      },
      "execution_count": null,
      "outputs": [
        {
          "output_type": "execute_result",
          "data": {
            "text/plain": [
              "37"
            ]
          },
          "metadata": {},
          "execution_count": 31
        }
      ]
    },
    {
      "cell_type": "code",
      "source": [
        "np.count_nonzero(np.isnan(Y))"
      ],
      "metadata": {
        "colab": {
          "base_uri": "https://localhost:8080/"
        },
        "id": "wwhEUcruH7eX",
        "outputId": "012065f0-0bc6-4991-8165-7ec5abc84a4c"
      },
      "execution_count": null,
      "outputs": [
        {
          "output_type": "execute_result",
          "data": {
            "text/plain": [
              "17"
            ]
          },
          "metadata": {},
          "execution_count": 32
        }
      ]
    },
    {
      "cell_type": "code",
      "source": [
        "X[np.isnan(X)] = 0"
      ],
      "metadata": {
        "id": "709Zc5j8IAjP"
      },
      "execution_count": null,
      "outputs": []
    },
    {
      "cell_type": "code",
      "source": [
        "Y[np.isnan(Y)] = 0"
      ],
      "metadata": {
        "id": "A0d6wdMKIDs2"
      },
      "execution_count": null,
      "outputs": []
    },
    {
      "cell_type": "code",
      "source": [
        "np.count_nonzero(np.isnan(X))"
      ],
      "metadata": {
        "colab": {
          "base_uri": "https://localhost:8080/"
        },
        "id": "1g0Z15ULIGlJ",
        "outputId": "0d7d66af-e14b-4cbb-bc73-bdaba16883aa"
      },
      "execution_count": null,
      "outputs": [
        {
          "output_type": "execute_result",
          "data": {
            "text/plain": [
              "0"
            ]
          },
          "metadata": {},
          "execution_count": 35
        }
      ]
    },
    {
      "cell_type": "code",
      "source": [
        "np.count_nonzero(np.isnan(Y))"
      ],
      "metadata": {
        "colab": {
          "base_uri": "https://localhost:8080/"
        },
        "id": "QH2AbWSeIJIi",
        "outputId": "58da3d2a-f2de-40a5-9b33-6d1d5264409e"
      },
      "execution_count": null,
      "outputs": [
        {
          "output_type": "execute_result",
          "data": {
            "text/plain": [
              "0"
            ]
          },
          "metadata": {},
          "execution_count": 36
        }
      ]
    },
    {
      "cell_type": "code",
      "source": [
        "X_train, X_test, Y_train, Y_test = train_test_split(X, Y, test_size=0.3)\n",
        "print(X_train.shape)\n",
        "print(X_test.shape)\n",
        "print(Y_train.shape)\n",
        "print(Y_test.shape)\n",
        "\n",
        "\n",
        "batch_size = 2\n",
        "epochs =100\n",
        "input_shape = (7)"
      ],
      "metadata": {
        "colab": {
          "base_uri": "https://localhost:8080/"
        },
        "id": "O8HWOjeFINEZ",
        "outputId": "0cf8fdc7-db40-4c5d-ff2c-0322de2c6ced"
      },
      "execution_count": null,
      "outputs": [
        {
          "output_type": "stream",
          "name": "stdout",
          "text": [
            "(5128, 7)\n",
            "(2199, 7)\n",
            "(5128,)\n",
            "(2199,)\n"
          ]
        }
      ]
    },
    {
      "cell_type": "markdown",
      "source": [
        "# Testing the two models\n",
        "\n",
        "> Add blockquote\n",
        "\n"
      ],
      "metadata": {
        "id": "nWpTOHA-ivNo"
      }
    },
    {
      "cell_type": "code",
      "source": [
        "import PIL\n",
        "import glob\n",
        "import numpy as np\n",
        "import tensorflow as tf\n",
        "from tqdm import tqdm\n",
        "import matplotlib.pyplot as plt\n",
        "from matplotlib.patches import Rectangle\n",
        "import zipfile\n",
        "import cv2\n",
        "import os\n",
        "from google.colab.patches import cv2_imshow\n",
        "import pandas as pd\n",
        "import glob\n",
        "import natsort\n",
        "from PIL import Image\n",
        "import sys\n",
        "from numpy import asarray\n",
        "from numpy import savetxt\n",
        "from numpy import loadtxt\n",
        "from sklearn.model_selection import train_test_split\n",
        "from tensorflow.keras.layers import LSTM\n",
        "import keras\n",
        "from keras.models import Sequential\n",
        "from keras.layers import Dense, Dropout, Activation, Flatten\n",
        "from keras.layers import Conv2D, MaxPooling2D, MaxPooling3D\n",
        "from keras import backend as K\n",
        "from tensorflow.keras.layers import BatchNormalization\n",
        "import tensorflow as tf\n",
        "from tensorflow import keras\n",
        "from tensorflow.keras import layers\n",
        "import joblib\n",
        "from sklearn.metrics import mean_squared_error"
      ],
      "metadata": {
        "id": "BHOabW66NrUa"
      },
      "execution_count": null,
      "outputs": []
    },
    {
      "cell_type": "code",
      "source": [
        "from google.colab import drive\n",
        "drive.mount('/content/drive')\n",
        "X_images_test = np.load(\"/content/drive/MyDrive/TestingDataset/testing_images.npy\")\n",
        "df_app_data = pd.read_csv('/content/drive/MyDrive/TestingDataset/app_data_test.csv')\n",
        "Y = np.asarray(df_app_data[\"score\"])"
      ],
      "metadata": {
        "colab": {
          "base_uri": "https://localhost:8080/"
        },
        "id": "1t_6cCaN9rjV",
        "outputId": "1d19317b-5024-42e3-e835-1f086a2425b3"
      },
      "execution_count": null,
      "outputs": [
        {
          "output_type": "stream",
          "name": "stdout",
          "text": [
            "Drive already mounted at /content/drive; to attempt to forcibly remount, call drive.mount(\"/content/drive\", force_remount=True).\n"
          ]
        }
      ]
    },
    {
      "cell_type": "code",
      "source": [
        "X_attributes = []\n",
        "count =0\n",
        "while count< len(df_app_data):\n",
        "\n",
        "  if(df_app_data[\"free\"][count] == True):\n",
        "    free = 1\n",
        "  else:\n",
        "    free = 0\n",
        "\n",
        "  if(df_app_data[\"adSupported\"][count] == True):\n",
        "    adSupported = 1\n",
        "  else:\n",
        "    adSupported = 0\n",
        "\n",
        "  if(df_app_data[\"containsAds\"][count] == True):\n",
        "    containsAds = 1\n",
        "  else:\n",
        "    containsAds = 0\n",
        "\n",
        "  data_row = [df_app_data[\"installs\"][count] , df_app_data[\"price\"][count],\n",
        "              df_app_data[\"ratings\"][count],df_app_data[\"reviews\"][count],\n",
        "              free, adSupported, containsAds]\n",
        "  X_attributes.append(data_row)\n",
        "  count = count +1"
      ],
      "metadata": {
        "id": "D7HOy3fPVB_7"
      },
      "execution_count": null,
      "outputs": []
    },
    {
      "cell_type": "code",
      "source": [
        "X_attributes = np.asarray(X_attributes)\n",
        "print(X_attributes.shape)\n",
        "print(Y.shape)"
      ],
      "metadata": {
        "colab": {
          "base_uri": "https://localhost:8080/"
        },
        "outputId": "1d9b3889-4bfc-4656-fb0c-f357543f1082",
        "id": "6T4QzrbnVagV"
      },
      "execution_count": null,
      "outputs": [
        {
          "output_type": "stream",
          "name": "stdout",
          "text": [
            "(95, 7)\n",
            "(95,)\n"
          ]
        }
      ]
    },
    {
      "cell_type": "code",
      "source": [
        "np.count_nonzero(np.isnan(X_attributes))"
      ],
      "metadata": {
        "colab": {
          "base_uri": "https://localhost:8080/"
        },
        "outputId": "1bf5fd1c-dbf9-413b-e778-29da622d7008",
        "id": "xUMe7JgiVagk"
      },
      "execution_count": null,
      "outputs": [
        {
          "output_type": "execute_result",
          "data": {
            "text/plain": [
              "3"
            ]
          },
          "metadata": {},
          "execution_count": 14
        }
      ]
    },
    {
      "cell_type": "code",
      "source": [
        "X_attributes[np.isnan(X_attributes)] = 0"
      ],
      "metadata": {
        "id": "8Y0_c10hVagk"
      },
      "execution_count": null,
      "outputs": []
    },
    {
      "cell_type": "code",
      "source": [
        "np.count_nonzero(np.isnan(X_attributes))"
      ],
      "metadata": {
        "colab": {
          "base_uri": "https://localhost:8080/"
        },
        "outputId": "aed9d2cb-1d87-4f9d-fa28-75c439c5af2e",
        "id": "GwZ9_hNmVagk"
      },
      "execution_count": null,
      "outputs": [
        {
          "output_type": "execute_result",
          "data": {
            "text/plain": [
              "0"
            ]
          },
          "metadata": {},
          "execution_count": 16
        }
      ]
    },
    {
      "cell_type": "code",
      "source": [
        "np.count_nonzero(np.isnan(Y))"
      ],
      "metadata": {
        "colab": {
          "base_uri": "https://localhost:8080/"
        },
        "id": "8QFZtl9MMHDm",
        "outputId": "96a77a5e-0390-40c9-d4a9-5de8a76bf952"
      },
      "execution_count": null,
      "outputs": [
        {
          "output_type": "execute_result",
          "data": {
            "text/plain": [
              "17"
            ]
          },
          "metadata": {},
          "execution_count": 6
        }
      ]
    },
    {
      "cell_type": "code",
      "source": [
        "Y[np.isnan(Y)] = 0"
      ],
      "metadata": {
        "id": "g-fUV8SgMJCs"
      },
      "execution_count": null,
      "outputs": []
    },
    {
      "cell_type": "code",
      "source": [
        "np.count_nonzero(np.isnan(Y))"
      ],
      "metadata": {
        "colab": {
          "base_uri": "https://localhost:8080/"
        },
        "id": "Ovthzy_jMNAs",
        "outputId": "42454f5a-d870-4362-f90b-a02f98f0dd1d"
      },
      "execution_count": null,
      "outputs": [
        {
          "output_type": "execute_result",
          "data": {
            "text/plain": [
              "0"
            ]
          },
          "metadata": {},
          "execution_count": 8
        }
      ]
    },
    {
      "cell_type": "code",
      "source": [
        "# Load the CNN model\n",
        "cnn_model = tf.keras.models.load_model('/content/drive/MyDrive/Model/app_rating_predict_cnn_model.h5')\n",
        "\n",
        "# Load the Random Forest model\n",
        "rf_model = joblib.load('/content/drive/MyDrive/Model/app_rating_predict_random_forest_model.h5')"
      ],
      "metadata": {
        "id": "A7Vv-Sfrixbb"
      },
      "execution_count": null,
      "outputs": []
    },
    {
      "cell_type": "code",
      "source": [
        "predictions_of_cnn_model = cnn_model.predict(X_images_test)"
      ],
      "metadata": {
        "colab": {
          "base_uri": "https://localhost:8080/"
        },
        "id": "FpGvdoyC9mnW",
        "outputId": "44f705d9-9ddf-4291-80f6-e6167d260456"
      },
      "execution_count": null,
      "outputs": [
        {
          "output_type": "stream",
          "name": "stdout",
          "text": [
            "3/3 [==============================] - 1s 96ms/step\n"
          ]
        }
      ]
    },
    {
      "cell_type": "code",
      "source": [
        "predictions_of_random_forest_model = rf_model.predict(X_attributes)"
      ],
      "metadata": {
        "id": "2lIlR0zNWNcU"
      },
      "execution_count": null,
      "outputs": []
    },
    {
      "cell_type": "code",
      "source": [
        "count = 0\n",
        "print (\"Prediction of CNN   |     Prediction of Random Forest.    |.         Prediction of  Ensemble.        |.        Actual Value   \")\n",
        "\n",
        "for i in Y:\n",
        "  print (predictions_of_cnn_model[count][0] , \"| \", predictions_of_random_forest_model[count] , \"|\" , predictions_of_random_forest_model[count]*0.5  +  predictions_of_cnn_model[count][0]  *0.5,\"|\", i  )\n",
        "  count = count + 1\n",
        "\n"
      ],
      "metadata": {
        "colab": {
          "base_uri": "https://localhost:8080/"
        },
        "id": "aJyFAl2-WbXm",
        "outputId": "7420f22f-0ff5-43d5-9f32-879f5a35cbbb"
      },
      "execution_count": null,
      "outputs": [
        {
          "output_type": "stream",
          "name": "stdout",
          "text": [
            "Prediction of CNN   |     Prediction of Random Forest.    |.         Prediction of  Ensemble.        |.        Actual Value   \n",
            "3.7640607 |  4.443506762999996 | 4.103783749351255 | 4.247619\n",
            "4.0703497 |  4.129717405999997 | 4.100033549649169 | 4.445693\n",
            "4.1183033 |  4.181957613000002 | 4.150130455975098 | 4.3365383\n",
            "3.453388 |  4.421122847333335 | 3.937255411513042 | 4.6531677\n",
            "3.8018007 |  4.285849392000003 | 4.043825059922121 | 4.3993254\n",
            "3.9980116 |  3.79666586 | 3.8973387245251465 | 3.6039605\n",
            "3.6000948 |  3.459338375 | 3.5297165851135253 | 3.54\n",
            "4.005869 |  3.560879855999998 | 3.783374383871581 | 1.4038461\n",
            "3.784554 |  4.209763422 | 3.9971587133345947 | 3.9868095\n",
            "3.4986606 |  4.153011820999998 | 3.8258361927113027 | 4.4356437\n",
            "4.4672117 |  4.400247978 | 4.433729850663818 | 4.7291665\n",
            "4.3447795 |  4.3508897029999964 | 4.3478345972122785 | 4.4473457\n",
            "4.297471 |  4.295935145999998 | 4.296703096223876 | 4.352193\n",
            "4.3630433 |  4.442783717999998 | 4.402913513129027 | 4.488072\n",
            "3.5636487 |  4.201581879999995 | 3.882615290357053 | 4.2091646\n",
            "2.895587 |  3.8739169039999974 | 3.38475193573413 | 4.102\n",
            "3.7841225 |  3.766317762333331 | 3.7752201146871736 | 4.0125785\n",
            "3.969031 |  4.262219300999999 | 4.1156251982523795 | 4.5201664\n",
            "3.822167 |  3.904657852999997 | 3.8634123863541245 | 4.58\n",
            "4.3012657 |  3.745170471000002 | 4.023218093776368 | 4.097826\n",
            "4.0591536 |  4.338809660999998 | 4.198981608911865 | 4.150387\n",
            "1.850116 |  4.036392446999998 | 2.9432542307402945 | 3.125\n",
            "4.1129813 |  4.342624913 | 4.227803116213745 | 4.242424\n",
            "3.520447 |  4.429040689999999 | 3.974743852881164 | 4.139681\n",
            "3.9854448 |  4.13592283683333 | 4.06068381049888 | 4.077922\n",
            "3.866331 |  4.024898657666665 | 3.9456148790652663 | 4.0503116\n",
            "4.2003565 |  4.225033977000005 | 4.212695230229739 | 3.0554323\n",
            "2.9233055 |  3.8806278520000013 | 3.4019666817373055 | 3.7128713\n",
            "4.1202135 |  4.186511932000001 | 4.1533627203029795 | 3.9830794\n",
            "2.139032 |  3.4618267769999975 | 2.80042933202722 | 4.407767\n",
            "3.520447 |  4.429040689999999 | 3.974743852881164 | 4.139681\n",
            "4.332429 |  4.251145958000003 | 4.291787445094972 | 4.3831\n",
            "3.7931693 |  3.6234810509999984 | 3.7083251555125116 | 3.35\n",
            "4.583102 |  4.484678635749998 | 4.533890431003661 | 4.6434846\n",
            "3.802543 |  4.258533644000001 | 4.030538284440491 | 4.702851\n",
            "3.6553562 |  4.267786221000001 | 3.9615711948734744 | 4.61\n",
            "4.593829 |  4.708953757999998 | 4.65139145648413 | 4.7709417\n",
            "4.2357016 |  4.326161771999996 | 4.280931666487058 | 4.348166\n",
            "4.3731284 |  4.509266105000002 | 4.441197259577027 | 4.666814\n",
            "3.459832 |  4.501540872999999 | 3.9806864130243524 | 4.5985403\n",
            "3.9240055 |  4.181623476999999 | 4.052814492711425 | 4.05283\n",
            "4.351466 |  4.387922310000008 | 4.369694244447025 | 4.375053\n",
            "4.4662848 |  4.069526332000001 | 4.267905541946045 | 4.7155557\n",
            "4.134718 |  4.23813769800001 | 4.186427819642095 | 4.260358\n",
            "4.2788444 |  4.479792349999999 | 4.379318353268433 | 4.5008245\n",
            "3.9565284 |  4.519541110999998 | 4.238034768108337 | 4.253341\n",
            "4.2779803 |  4.6623341289999924 | 4.470157228303097 | 4.612462\n",
            "4.1997876 |  4.069467723999996 | 4.134627670364866 | 4.1908436\n",
            "3.9160306 |  4.113544715000003 | 4.014787680185243 | 3.8608532\n",
            "3.6925051 |  4.134890588000001 | 3.91369785461554 | 4.111713\n",
            "4.276369 |  4.310241453 | 4.293305273924316 | 3.8788753\n",
            "3.8637986 |  0.0 | 1.9318993091583252 | nan\n",
            "3.7948408 |  4.081039653000005 | 3.937940232841555 | 4.0738277\n",
            "4.1967974 |  4.529679894 | 4.363238632455323 | 4.451302\n",
            "4.26112 |  4.071432435999998 | 4.166276139264648 | 3.947943\n",
            "4.5912743 |  4.741422057466662 | 4.666348159470635 | 4.7525487\n",
            "4.038401 |  4.135574434999998 | 4.0869877809307855 | 4.356436\n",
            "3.0139496 |  4.448107901 | 3.7310287668223268 | 4.275574\n",
            "3.8610394 |  4.385098308000003 | 4.123068854050356 | 4.6743298\n",
            "4.4672117 |  4.400247978 | 4.433729850663818 | 4.7291665\n",
            "4.501608 |  4.357143046999999 | 4.42937547094873 | 4.637784\n",
            "3.8112476 |  3.6204466230000008 | 3.7158471051019903 | 3.6909091\n",
            "4.2233667 |  3.946681092000004 | 4.085023914682863 | 4.47\n",
            "4.1153164 |  3.9610196490000034 | 4.038168019995608 | 3.1810238\n",
            "3.8661246 |  4.574626960166667 | 4.220375795070517 | 4.537182\n",
            "4.2900085 |  4.3063340619999995 | 4.298171303460937 | 4.536628\n",
            "3.874194 |  4.4836090319999995 | 4.178901469392029 | 4.225223\n",
            "3.66396 |  3.7373365629999977 | 3.700648271505492 | 3.92\n",
            "1.706848 |  4.379387003 | 3.04311751416098 | 4.230642\n",
            "3.4410055 |  4.274144623 | 3.857575045684265 | 4.65\n",
            "4.317246 |  3.664863211 | 3.991054585617798 | 3.25\n",
            "3.765567 |  4.015291062000006 | 3.8904290631426424 | 3.7520335\n",
            "4.358322 |  4.514826214999994 | 4.436574179277341 | 4.5481944\n",
            "4.0591536 |  4.338809660999998 | 4.198981608911865 | 4.150387\n",
            "3.8014832 |  3.290811407 | 3.5461472806484373 | 3.03\n",
            "4.394953 |  4.498618456999997 | 4.4467856155239245 | 4.490038\n",
            "3.8953178 |  3.442937468999998 | 3.6691276309462273 | 3.7623763\n",
            "4.6186914 |  4.332785058 | 4.475738251198486 | 4.8062077\n",
            "4.4281464 |  3.7981923840000036 | 4.1131693731523455 | 4.5686274\n",
            "1.5738875 |  0.0 | 0.7869437336921692 | 0.0\n",
            "4.2362194 |  4.350891002833334 | 4.293555204480632 | 4.382301\n",
            "3.5647583 |  3.8459177399999986 | 3.7053380203906245 | 1.25\n",
            "3.8265107 |  4.151035837999996 | 3.9887732529004496 | 3.9834979\n",
            "3.4487848 |  4.054257597999995 | 3.751521213093015 | 4.16\n",
            "-0.19258714 |  0.0 | -0.09629356861114502 | 0.0\n",
            "1.1140728 |  3.2841651550000006 | 2.1991189773413087 | 1.4807693\n",
            "4.0670905 |  4.432729871000005 | 4.249910191161013 | 4.4663672\n",
            "4.0670905 |  4.432729871000005 | 4.249910191161013 | 4.4663672\n",
            "4.005869 |  3.560879855999998 | 3.783374383871581 | 1.4038461\n",
            "4.2855797 |  3.5228624689999966 | 3.9042210751982402 | 3.5327125\n",
            "2.2387433 |  4.102212725 | 3.1704780151031495 | 3.7692308\n",
            "4.323103 |  4.478911883999995 | 4.4010074175249 | 4.378091\n",
            "3.8539503 |  4.169118816000001 | 4.011534539034852 | 4.0420384\n",
            "3.969031 |  4.262219300999999 | 4.1156251982523795 | 4.5201664\n",
            "3.822167 |  3.904657852999997 | 3.8634123863541245 | 4.58\n",
            "Prediction of CNN   |     Prediction of Random Forest.    |.         Prediction of  Ensemble.        |.        Actual Value   \n",
            "3.7640607 |  4.443506762999996 | 4.103783749351255 | 4.247619\n",
            "4.0703497 |  4.129717405999997 | 4.100033549649169 | 4.445693\n",
            "4.1183033 |  4.181957613000002 | 4.150130455975098 | 4.3365383\n",
            "3.453388 |  4.421122847333335 | 3.937255411513042 | 4.6531677\n",
            "3.8018007 |  4.285849392000003 | 4.043825059922121 | 4.3993254\n",
            "3.9980116 |  3.79666586 | 3.8973387245251465 | 3.6039605\n",
            "3.6000948 |  3.459338375 | 3.5297165851135253 | 3.54\n",
            "4.005869 |  3.560879855999998 | 3.783374383871581 | 1.4038461\n",
            "3.784554 |  4.209763422 | 3.9971587133345947 | 3.9868095\n",
            "3.4986606 |  4.153011820999998 | 3.8258361927113027 | 4.4356437\n",
            "4.4672117 |  4.400247978 | 4.433729850663818 | 4.7291665\n",
            "4.3447795 |  4.3508897029999964 | 4.3478345972122785 | 4.4473457\n",
            "4.297471 |  4.295935145999998 | 4.296703096223876 | 4.352193\n",
            "4.3630433 |  4.442783717999998 | 4.402913513129027 | 4.488072\n",
            "3.5636487 |  4.201581879999995 | 3.882615290357053 | 4.2091646\n",
            "2.895587 |  3.8739169039999974 | 3.38475193573413 | 4.102\n",
            "3.7841225 |  3.766317762333331 | 3.7752201146871736 | 4.0125785\n",
            "3.969031 |  4.262219300999999 | 4.1156251982523795 | 4.5201664\n",
            "3.822167 |  3.904657852999997 | 3.8634123863541245 | 4.58\n",
            "4.3012657 |  3.745170471000002 | 4.023218093776368 | 4.097826\n",
            "4.0591536 |  4.338809660999998 | 4.198981608911865 | 4.150387\n",
            "1.850116 |  4.036392446999998 | 2.9432542307402945 | 3.125\n",
            "4.1129813 |  4.342624913 | 4.227803116213745 | 4.242424\n",
            "3.520447 |  4.429040689999999 | 3.974743852881164 | 4.139681\n",
            "3.9854448 |  4.13592283683333 | 4.06068381049888 | 4.077922\n",
            "3.866331 |  4.024898657666665 | 3.9456148790652663 | 4.0503116\n",
            "4.2003565 |  4.225033977000005 | 4.212695230229739 | 3.0554323\n",
            "2.9233055 |  3.8806278520000013 | 3.4019666817373055 | 3.7128713\n",
            "4.1202135 |  4.186511932000001 | 4.1533627203029795 | 3.9830794\n",
            "2.139032 |  3.4618267769999975 | 2.80042933202722 | 4.407767\n",
            "3.520447 |  4.429040689999999 | 3.974743852881164 | 4.139681\n",
            "4.332429 |  4.251145958000003 | 4.291787445094972 | 4.3831\n",
            "3.7931693 |  3.6234810509999984 | 3.7083251555125116 | 3.35\n",
            "4.583102 |  4.484678635749998 | 4.533890431003661 | 4.6434846\n",
            "3.802543 |  4.258533644000001 | 4.030538284440491 | 4.702851\n",
            "3.6553562 |  4.267786221000001 | 3.9615711948734744 | 4.61\n",
            "4.593829 |  4.708953757999998 | 4.65139145648413 | 4.7709417\n",
            "4.2357016 |  4.326161771999996 | 4.280931666487058 | 4.348166\n",
            "4.3731284 |  4.509266105000002 | 4.441197259577027 | 4.666814\n",
            "3.459832 |  4.501540872999999 | 3.9806864130243524 | 4.5985403\n",
            "3.9240055 |  4.181623476999999 | 4.052814492711425 | 4.05283\n",
            "4.351466 |  4.387922310000008 | 4.369694244447025 | 4.375053\n",
            "4.4662848 |  4.069526332000001 | 4.267905541946045 | 4.7155557\n",
            "4.134718 |  4.23813769800001 | 4.186427819642095 | 4.260358\n",
            "4.2788444 |  4.479792349999999 | 4.379318353268433 | 4.5008245\n",
            "3.9565284 |  4.519541110999998 | 4.238034768108337 | 4.253341\n",
            "4.2779803 |  4.6623341289999924 | 4.470157228303097 | 4.612462\n",
            "4.1997876 |  4.069467723999996 | 4.134627670364866 | 4.1908436\n",
            "3.9160306 |  4.113544715000003 | 4.014787680185243 | 3.8608532\n",
            "3.6925051 |  4.134890588000001 | 3.91369785461554 | 4.111713\n",
            "4.276369 |  4.310241453 | 4.293305273924316 | 3.8788753\n",
            "3.8637986 |  0.0 | 1.9318993091583252 | nan\n",
            "3.7948408 |  4.081039653000005 | 3.937940232841555 | 4.0738277\n",
            "4.1967974 |  4.529679894 | 4.363238632455323 | 4.451302\n",
            "4.26112 |  4.071432435999998 | 4.166276139264648 | 3.947943\n",
            "4.5912743 |  4.741422057466662 | 4.666348159470635 | 4.7525487\n",
            "4.038401 |  4.135574434999998 | 4.0869877809307855 | 4.356436\n",
            "3.0139496 |  4.448107901 | 3.7310287668223268 | 4.275574\n",
            "3.8610394 |  4.385098308000003 | 4.123068854050356 | 4.6743298\n",
            "4.4672117 |  4.400247978 | 4.433729850663818 | 4.7291665\n",
            "4.501608 |  4.357143046999999 | 4.42937547094873 | 4.637784\n",
            "3.8112476 |  3.6204466230000008 | 3.7158471051019903 | 3.6909091\n",
            "4.2233667 |  3.946681092000004 | 4.085023914682863 | 4.47\n",
            "4.1153164 |  3.9610196490000034 | 4.038168019995608 | 3.1810238\n",
            "3.8661246 |  4.574626960166667 | 4.220375795070517 | 4.537182\n",
            "4.2900085 |  4.3063340619999995 | 4.298171303460937 | 4.536628\n",
            "3.874194 |  4.4836090319999995 | 4.178901469392029 | 4.225223\n",
            "3.66396 |  3.7373365629999977 | 3.700648271505492 | 3.92\n",
            "1.706848 |  4.379387003 | 3.04311751416098 | 4.230642\n",
            "3.4410055 |  4.274144623 | 3.857575045684265 | 4.65\n",
            "4.317246 |  3.664863211 | 3.991054585617798 | 3.25\n",
            "3.765567 |  4.015291062000006 | 3.8904290631426424 | 3.7520335\n",
            "4.358322 |  4.514826214999994 | 4.436574179277341 | 4.5481944\n",
            "4.0591536 |  4.338809660999998 | 4.198981608911865 | 4.150387\n",
            "3.8014832 |  3.290811407 | 3.5461472806484373 | 3.03\n",
            "4.394953 |  4.498618456999997 | 4.4467856155239245 | 4.490038\n",
            "3.8953178 |  3.442937468999998 | 3.6691276309462273 | 3.7623763\n",
            "4.6186914 |  4.332785058 | 4.475738251198486 | 4.8062077\n",
            "4.4281464 |  3.7981923840000036 | 4.1131693731523455 | 4.5686274\n",
            "1.5738875 |  0.0 | 0.7869437336921692 | 0.0\n",
            "4.2362194 |  4.350891002833334 | 4.293555204480632 | 4.382301\n",
            "3.5647583 |  3.8459177399999986 | 3.7053380203906245 | 1.25\n",
            "3.8265107 |  4.151035837999996 | 3.9887732529004496 | 3.9834979\n",
            "3.4487848 |  4.054257597999995 | 3.751521213093015 | 4.16\n",
            "-0.19258714 |  0.0 | -0.09629356861114502 | 0.0\n",
            "1.1140728 |  3.2841651550000006 | 2.1991189773413087 | 1.4807693\n",
            "4.0670905 |  4.432729871000005 | 4.249910191161013 | 4.4663672\n",
            "4.0670905 |  4.432729871000005 | 4.249910191161013 | 4.4663672\n",
            "4.005869 |  3.560879855999998 | 3.783374383871581 | 1.4038461\n",
            "4.2855797 |  3.5228624689999966 | 3.9042210751982402 | 3.5327125\n",
            "2.2387433 |  4.102212725 | 3.1704780151031495 | 3.7692308\n",
            "4.323103 |  4.478911883999995 | 4.4010074175249 | 4.378091\n",
            "3.8539503 |  4.169118816000001 | 4.011534539034852 | 4.0420384\n",
            "3.969031 |  4.262219300999999 | 4.1156251982523795 | 4.5201664\n",
            "3.822167 |  3.904657852999997 | 3.8634123863541245 | 4.58\n"
          ]
        }
      ]
    },
    {
      "cell_type": "code",
      "source": [
        "predictions_of_cnn_model_as_array = []\n",
        "count = 0\n",
        "predictions_of_ensemble_model_as_array = []\n",
        "Y_array = []\n",
        "for i in predictions_of_cnn_model:\n",
        "  # if(i[0] != None and predictions_of_random_forest_model[count] != None and Y[count] != None):\n",
        "    predictions_of_cnn_model_as_array.append(i[0])\n",
        "    predictions_of_ensemble_model_as_array.append(i[0]*0.5 + predictions_of_random_forest_model[count]*0.5 )\n",
        "    Y_array.append(Y[count])\n",
        "    count = count +1"
      ],
      "metadata": {
        "id": "zv0CBd1IcVPn"
      },
      "execution_count": null,
      "outputs": []
    },
    {
      "cell_type": "code",
      "source": [
        "Y[np.isnan(Y)] = 0"
      ],
      "metadata": {
        "id": "v5VRW-50fLvZ"
      },
      "execution_count": null,
      "outputs": []
    },
    {
      "cell_type": "code",
      "source": [
        "Y"
      ],
      "metadata": {
        "colab": {
          "base_uri": "https://localhost:8080/"
        },
        "id": "dwBXmvogfV6j",
        "outputId": "b113e14b-28ef-4303-8243-64acc92c46f5"
      },
      "execution_count": null,
      "outputs": [
        {
          "output_type": "execute_result",
          "data": {
            "text/plain": [
              "array([4.247619 , 4.445693 , 4.3365383, 4.6531677, 4.3993254, 3.6039605,\n",
              "       3.54     , 1.4038461, 3.9868095, 4.4356437, 4.7291665, 4.4473457,\n",
              "       4.352193 , 4.488072 , 4.2091646, 4.102    , 4.0125785, 4.5201664,\n",
              "       4.58     , 4.097826 , 4.150387 , 3.125    , 4.242424 , 4.139681 ,\n",
              "       4.077922 , 4.0503116, 3.0554323, 3.7128713, 3.9830794, 4.407767 ,\n",
              "       4.139681 , 4.3831   , 3.35     , 4.6434846, 4.702851 , 4.61     ,\n",
              "       4.7709417, 4.348166 , 4.666814 , 4.5985403, 4.05283  , 4.375053 ,\n",
              "       4.7155557, 4.260358 , 4.5008245, 4.253341 , 4.612462 , 4.1908436,\n",
              "       3.8608532, 4.111713 , 3.8788753, 0.       , 4.0738277, 4.451302 ,\n",
              "       3.947943 , 4.7525487, 4.356436 , 4.275574 , 4.6743298, 4.7291665,\n",
              "       4.637784 , 3.6909091, 4.47     , 3.1810238, 4.537182 , 4.536628 ,\n",
              "       4.225223 , 3.92     , 4.230642 , 4.65     , 3.25     , 3.7520335,\n",
              "       4.5481944, 4.150387 , 3.03     , 4.490038 , 3.7623763, 4.8062077,\n",
              "       4.5686274, 0.       , 4.382301 , 1.25     , 3.9834979, 4.16     ,\n",
              "       0.       , 1.4807693, 4.4663672, 4.4663672, 1.4038461, 3.5327125,\n",
              "       3.7692308, 4.378091 , 4.0420384, 4.5201664, 4.58     ])"
            ]
          },
          "metadata": {},
          "execution_count": 52
        }
      ]
    },
    {
      "cell_type": "code",
      "source": [
        " mse_random_forest = mean_squared_error(Y, predictions_of_random_forest_model)\n",
        "mse_cnn = mean_squared_error(Y, predictions_of_cnn_model_as_array)\n",
        "mse_ensemble = mean_squared_error(Y, predictions_of_ensemble_model_as_array)\n",
        "\n",
        "\n",
        "print(\"Mean absolute error of CNN model  : \", mse_cnn)\n",
        "print(\"Mean absolute error of random forest model : \", mse_random_forest)\n",
        "print(\"Mean absolute error of ensemble model : \", mse_ensemble)"
      ],
      "metadata": {
        "colab": {
          "base_uri": "https://localhost:8080/"
        },
        "id": "eFw2wMqfXWMR",
        "outputId": "64c74af2-99f3-4481-fc82-e95ddb2dc821"
      },
      "execution_count": null,
      "outputs": [
        {
          "output_type": "stream",
          "name": "stdout",
          "text": [
            "Mean absolute error of CNN model  :  0.7900168980219855\n",
            "Mean absolute error of random forest model :  0.3026244275588025\n",
            "Mean absolute error of ensemble model :  0.39689856527939305\n"
          ]
        }
      ]
    },
    {
      "cell_type": "code",
      "source": [],
      "metadata": {
        "id": "yvv3P40fdtz6"
      },
      "execution_count": null,
      "outputs": []
    }
  ]
}